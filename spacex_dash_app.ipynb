{
    "cells": [
        {
            "cell_type": "code",
            "execution_count": null,
            "id": "8df502ed-bc18-4ca5-b0f4-cbba4a875c08",
            "metadata": {},
            "outputs": [],
            "source": "# Import required libraries\nimport pandas as pd\nimport dash\nimport dash_html_components as html\nimport dash_core_components as dcc\nfrom dash.dependencies import Input, Output\nimport plotly.express as px\n\n# Read the airline data into pandas dataframe\nspacex_df = pd.read_csv(\"spacex_launch_dash.csv\")\nmax_payload = spacex_df['Payload Mass (kg)'].max()\nmin_payload = spacex_df['Payload Mass (kg)'].min()\n\n# Create a dash application\napp = dash.Dash(__name__)\n\n# Create an app layout\napp.layout = html.Div(children=[html.H1('SpaceX Launch Records Dashboard',\n                                        style={'textAlign': 'center', 'color': '#503D36',\n                                               'font-size': 40}),\n                                # TASK 1: Add a dropdown list to enable Launch Site selection\n                                # The default select value is for ALL sites\n                                dcc.Dropdown(id='site-dropdown',\n                                    options=[\n                                        {'label': 'All Sites', 'value': 'ALL'},\n                                        {'label': 'CCAFS LC-40', 'value': 'CCAFS LC-40'},\n                                        {'label': 'CCAFS SLC-40', 'value': 'CCAFS SLC-40'},\n                                        {'label': 'KSC LC-39A', 'value': 'KSC LC-39A'},\n                                        {'label': 'VAFB SLC-4E', 'value': 'VAFB SLC-4E'},\n                                    ],\n                                    value='ALL',\n                                    placeholder=\"Select a Launch Site here\",\n                                    searchable=True\n                                ),\n\n                                html.Br(),\n\n                                # TASK 2: Add a pie chart to show the total successful launches count for all sites\n                                # If a specific launch site was selected, show the Success vs. Failed counts for the site\n                                html.Div(dcc.Graph(id='success-pie-chart')),\n                                html.Br(),\n\n                                html.P(\"Payload range (Kg):\"),\n                                # TASK 3: Add a slider to select payload range\n                                #dcc.RangeSlider(id='payload-slider',...)\n\n                                # TASK 4: Add a scatter chart to show the correlation between payload and launch success\n                                html.Div(dcc.Graph(id='success-payload-scatter-chart')),\n                                ])\n\n# TASK 2:\n# Function decorator to specify function input and output\n@app.callback(Output(component_id='success-pie-chart', component_property='figure'),\n              Input(component_id='site-dropdown', component_property='value'))\n\ndef get_pie_chart(entered_site):\n    filtered_df = spacex_df[spacex_df['Launch Site']==entered_site]\\\n        .groupby(['class'],as_index=False).count()\n    unfiltered_df = spacex_df.groupby(['class'],as_index=False).count()\n    if entered_site == 'ALL':\n        fig = px.pie(unfiltered_df , values='class', \n        names='Launch Site', \n        title='Succes Rate')\n        return fig\n    else:\n        fig = px.pie(filtered_df, values='class', \n        names='Launch Site', \n        title='Succes Rate')\n        return fig\n      \n        # return the outcomes piechart for a selected site\n# TASK 4:\n# Add a callback function for `site-dropdown` and `payload-slider` as inputs, `success-payload-scatter-chart` as output\n\n\n# Run the app\nif __name__ == '__main__':\n    app.run_server()\n"
        }
    ],
    "metadata": {
        "kernelspec": {
            "display_name": "Python 3 (ipykernel)",
            "language": "python",
            "name": "python3"
        },
        "language_info": {
            "codemirror_mode": {
                "name": "ipython",
                "version": 3
            },
            "file_extension": ".py",
            "mimetype": "text/x-python",
            "name": "python",
            "nbconvert_exporter": "python",
            "pygments_lexer": "ipython3",
            "version": "3.8.12"
        }
    },
    "nbformat": 4,
    "nbformat_minor": 5
}